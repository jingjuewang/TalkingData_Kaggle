{
 "cells": [
  {
   "cell_type": "markdown",
   "metadata": {},
   "source": [
    "This notebook is for Kaggle's TalkingData AdTracking Fraud Detection Challenge. https://www.kaggle.com/c/talkingdata-adtracking-fraud-detection      \n",
    "This competition was aimed at classifying the behavior that produces lots of clicks, but never\n",
    "end up downloading the app.       \n",
    "\n",
    "Data provided by the organizer:  (Data sets can be downloaded at https://www.kaggle.com/c/talkingdata-adtracking-fraud-detection/data)    \n",
    "    - test.csv, the testing data      \n",
    "    - train.csv, the complete training data        \n",
    "    - train_sample.csv, the subset training data which was randomly selected from train.csv.    \n",
    "Data fieles: \n",
    "- `ip`: ip address of click.     \n",
    "- `app`: app id for marketing.   \n",
    "- `device`: device type id of user mobile phone.\n",
    "- `os`: os version id of user mobile phone.\n",
    "- `channel`: channel id of mobile ad publisher.\n",
    "- `click_time`: timestamp of click (UTC).   \n",
    "- `attributed_time`: if user download the app for after clicking an ad, this is the time of the app download.   \n",
    "- `is_attribted`: the target that is to be predicted, indicating the app was downloaded. \n",
    "\n",
    "Because the features, `ip`, `app`, `device`, `os`, and `channel`, are already encoded, there is not direct information telling us the insight amoung these features. We need to use EDA to dig patterns hidden behind them.          \n",
    "\n",
    "##### Code Overview:   \n",
    "- Load data   \n",
    "- Exploratory data analysis (EDA):        \n",
    "    - How balance the data is.    \n",
    "    - Conversion rates based on different features.   \n",
    "    - Time-related patterns.    \n",
    "- Feature engineering:    \n",
    "    - Add features about conversion rate.   \n",
    "    - Add features about `channel`.    \n",
    "- Modeling:    \n",
    "    - Use Lightgbm to build the model.    \n",
    "    - Use `AUC` as evaluation metric.    \n",
    "- Model interpretation:\n",
    "    - Feature importance."
   ]
  },
  {
   "cell_type": "code",
   "execution_count": 1,
   "metadata": {
    "collapsed": true
   },
   "outputs": [],
   "source": [
    "import pandas as pd\n",
    "import os\n",
    "import subprocess\n",
    "import pandas_profiling\n",
    "import matplotlib.pyplot as plt\n",
    "import seaborn as sns\n",
    "import random\n",
    "\n",
    "%matplotlib inline"
   ]
  },
  {
   "cell_type": "code",
   "execution_count": 2,
   "metadata": {},
   "outputs": [
    {
     "name": "stdout",
     "output_type": "stream",
     "text": [
      "7537649302MB\n",
      "863271911MB\n"
     ]
    }
   ],
   "source": [
    "# The file sizes for the training data\n",
    "print(str(os.path.getsize(\"data/train.csv\")) + \"MB\")\n",
    "print(str(os.path.getsize(\"data/test.csv\")) + \"MB\")"
   ]
  },
  {
   "cell_type": "code",
   "execution_count": 3,
   "metadata": {},
   "outputs": [
    {
     "name": "stdout",
     "output_type": "stream",
     "text": [
      " 184903891 data/train.csv\n",
      " 18790470 data/test.csv\n"
     ]
    }
   ],
   "source": [
    "# The number of lines for the training data\n",
    "! wc -l data/train.csv\n",
    "! wc -l data/test.csv"
   ]
  },
  {
   "cell_type": "markdown",
   "metadata": {},
   "source": [
    "Because the training data is very large (~7.5GB, ~185M lines), I used the last 20M lines as my training data, i.e. subset_train.csv    \n",
    "The `subse_train.csv` is generated from the command line below:      \n",
    "tail -n 20000000 train.csv > subset_train.csv}"
   ]
  },
  {
   "cell_type": "code",
   "execution_count": 135,
   "metadata": {},
   "outputs": [
    {
     "name": "stderr",
     "output_type": "stream",
     "text": [
      "<string>:2: DtypeWarning: Columns (6) have mixed types. Specify dtype option on import or set low_memory=False.\n"
     ]
    },
    {
     "name": "stdout",
     "output_type": "stream",
     "text": [
      "CPU times: user 15.3 s, sys: 3.3 s, total: 18.6 s\n",
      "Wall time: 20.5 s\n"
     ]
    }
   ],
   "source": [
    "%time train = pd.read_csv(\"data/subset_train.csv\")"
   ]
  },
  {
   "cell_type": "code",
   "execution_count": 155,
   "metadata": {
    "collapsed": true
   },
   "outputs": [],
   "source": [
    "test = pd.read_csv(\"data/test.csv\")"
   ]
  },
  {
   "cell_type": "code",
   "execution_count": 136,
   "metadata": {
    "collapsed": true
   },
   "outputs": [],
   "source": [
    "train[[\"ip\", \"app\", \"device\", \"os\", \"channel\"]] = train[[\"ip\", \"app\", \"device\", \"os\", \"channel\"]].astype(\"object\")\n",
    "train[\"click_time\"] = pd.to_datetime(train[\"click_time\"])\n",
    "train[\"attributed_time\"] = pd.to_datetime(train[\"attributed_time\"])"
   ]
  },
  {
   "cell_type": "code",
   "execution_count": 156,
   "metadata": {
    "collapsed": true
   },
   "outputs": [],
   "source": [
    "test[[\"ip\", \"app\", \"device\", \"os\", \"channel\"]] = test[[\"ip\", \"app\", \"device\", \"os\", \"channel\"]].astype(\"object\")\n",
    "test[\"click_time\"] = pd.to_datetime(test[\"click_time\"])"
   ]
  },
  {
   "cell_type": "code",
   "execution_count": 8,
   "metadata": {},
   "outputs": [
    {
     "data": {
      "text/plain": [
       "ip                         object\n",
       "app                        object\n",
       "device                     object\n",
       "os                         object\n",
       "channel                    object\n",
       "click_time         datetime64[ns]\n",
       "attributed_time    datetime64[ns]\n",
       "is_attributed               int64\n",
       "dtype: object"
      ]
     },
     "execution_count": 8,
     "metadata": {},
     "output_type": "execute_result"
    }
   ],
   "source": [
    "train.dtypes"
   ]
  },
  {
   "cell_type": "code",
   "execution_count": 9,
   "metadata": {},
   "outputs": [
    {
     "name": "stdout",
     "output_type": "stream",
     "text": [
      "(20000000, 8)\n",
      "(18790469, 7)\n"
     ]
    }
   ],
   "source": [
    "print(train.shape)\n",
    "print(test.shape)"
   ]
  },
  {
   "cell_type": "markdown",
   "metadata": {},
   "source": [
    "## EDA"
   ]
  },
  {
   "cell_type": "code",
   "execution_count": 55,
   "metadata": {},
   "outputs": [
    {
     "data": {
      "text/html": [
       "<div>\n",
       "<style>\n",
       "    .dataframe thead tr:only-child th {\n",
       "        text-align: right;\n",
       "    }\n",
       "\n",
       "    .dataframe thead th {\n",
       "        text-align: left;\n",
       "    }\n",
       "\n",
       "    .dataframe tbody tr th {\n",
       "        vertical-align: top;\n",
       "    }\n",
       "</style>\n",
       "<table border=\"1\" class=\"dataframe\">\n",
       "  <thead>\n",
       "    <tr style=\"text-align: right;\">\n",
       "      <th></th>\n",
       "      <th>ip</th>\n",
       "      <th>app</th>\n",
       "      <th>device</th>\n",
       "      <th>os</th>\n",
       "      <th>channel</th>\n",
       "      <th>click_time</th>\n",
       "      <th>attributed_time</th>\n",
       "      <th>is_attributed</th>\n",
       "    </tr>\n",
       "  </thead>\n",
       "  <tbody>\n",
       "    <tr>\n",
       "      <th>0</th>\n",
       "      <td>195051</td>\n",
       "      <td>3</td>\n",
       "      <td>1</td>\n",
       "      <td>13</td>\n",
       "      <td>317</td>\n",
       "      <td>2017-11-09 09:58:58</td>\n",
       "      <td>NaN</td>\n",
       "      <td>0</td>\n",
       "    </tr>\n",
       "    <tr>\n",
       "      <th>1</th>\n",
       "      <td>14348</td>\n",
       "      <td>12</td>\n",
       "      <td>1</td>\n",
       "      <td>18</td>\n",
       "      <td>265</td>\n",
       "      <td>2017-11-09 09:58:58</td>\n",
       "      <td>NaN</td>\n",
       "      <td>0</td>\n",
       "    </tr>\n",
       "    <tr>\n",
       "      <th>2</th>\n",
       "      <td>106460</td>\n",
       "      <td>2</td>\n",
       "      <td>1</td>\n",
       "      <td>18</td>\n",
       "      <td>219</td>\n",
       "      <td>2017-11-09 09:58:58</td>\n",
       "      <td>NaN</td>\n",
       "      <td>0</td>\n",
       "    </tr>\n",
       "    <tr>\n",
       "      <th>3</th>\n",
       "      <td>53617</td>\n",
       "      <td>3</td>\n",
       "      <td>1</td>\n",
       "      <td>19</td>\n",
       "      <td>379</td>\n",
       "      <td>2017-11-09 09:58:58</td>\n",
       "      <td>NaN</td>\n",
       "      <td>0</td>\n",
       "    </tr>\n",
       "    <tr>\n",
       "      <th>4</th>\n",
       "      <td>67249</td>\n",
       "      <td>14</td>\n",
       "      <td>1</td>\n",
       "      <td>22</td>\n",
       "      <td>489</td>\n",
       "      <td>2017-11-09 09:58:58</td>\n",
       "      <td>NaN</td>\n",
       "      <td>0</td>\n",
       "    </tr>\n",
       "  </tbody>\n",
       "</table>\n",
       "</div>"
      ],
      "text/plain": [
       "       ip  app  device  os  channel           click_time attributed_time  \\\n",
       "0  195051    3       1  13      317  2017-11-09 09:58:58             NaN   \n",
       "1   14348   12       1  18      265  2017-11-09 09:58:58             NaN   \n",
       "2  106460    2       1  18      219  2017-11-09 09:58:58             NaN   \n",
       "3   53617    3       1  19      379  2017-11-09 09:58:58             NaN   \n",
       "4   67249   14       1  22      489  2017-11-09 09:58:58             NaN   \n",
       "\n",
       "   is_attributed  \n",
       "0              0  \n",
       "1              0  \n",
       "2              0  \n",
       "3              0  \n",
       "4              0  "
      ]
     },
     "execution_count": 55,
     "metadata": {},
     "output_type": "execute_result"
    }
   ],
   "source": [
    "# ip, app, device, os, and channel are encoded. \n",
    "train.head()"
   ]
  },
  {
   "cell_type": "code",
   "execution_count": 30,
   "metadata": {},
   "outputs": [
    {
     "data": {
      "text/plain": [
       "ip                        0\n",
       "app                       0\n",
       "device                    0\n",
       "os                        0\n",
       "channel                   0\n",
       "click_time                0\n",
       "attributed_time    19952821\n",
       "is_attributed             0\n",
       "dtype: int64"
      ]
     },
     "execution_count": 30,
     "metadata": {},
     "output_type": "execute_result"
    }
   ],
   "source": [
    "# Check the missing values in the training data set\n",
    "train.isnull().sum()"
   ]
  },
  {
   "cell_type": "code",
   "execution_count": 18,
   "metadata": {},
   "outputs": [
    {
     "data": {
      "image/png": "[encoded data removed]",
      "text/plain": [
       "<matplotlib.figure.Figure at 0x114e8ddd8>"
      ]
     },
     "metadata": {},
     "output_type": "display_data"
    }
   ],
   "source": [
    "# Check if the target variable is unbalanced\n",
    "# Based on the plot below, the data is very unbalanced\n",
    "perc_notFradulent = (train.is_attributed.value_counts())[0] * 100 /train.shape[0]\n",
    "perc_Fraudulent = (train.is_attributed.value_counts())[1] * 100 / train.shape[0]\n",
    "ax = sns.barplot([\"Fraudulent\", \"Not Fradulent\"], \n",
    "                 [perc_Fraudulent, perc_notFradulent])\n",
    "ax.set(xlabel=\"Target Variable\", ylabel=\"Percentage\", title=\"Target Variable distribution\")\n",
    "for p, num in zip(ax.patches, [perc_Fraudulent, perc_notFradulent]):\n",
    "    ax.text(p.get_x()+p.get_width()/2., p.get_height()+0.1, str(num))"
   ]
  },
  {
   "cell_type": "code",
   "execution_count": 79,
   "metadata": {},
   "outputs": [
    {
     "data": {
      "text/html": [
       "<div>\n",
       "<style>\n",
       "    .dataframe thead tr:only-child th {\n",
       "        text-align: right;\n",
       "    }\n",
       "\n",
       "    .dataframe thead th {\n",
       "        text-align: left;\n",
       "    }\n",
       "\n",
       "    .dataframe tbody tr th {\n",
       "        vertical-align: top;\n",
       "    }\n",
       "</style>\n",
       "<table border=\"1\" class=\"dataframe\">\n",
       "  <thead>\n",
       "    <tr style=\"text-align: right;\">\n",
       "      <th></th>\n",
       "      <th>app_nunique</th>\n",
       "      <th>channel_nunique</th>\n",
       "      <th>device_nunique</th>\n",
       "      <th>ip_nunique</th>\n",
       "      <th>os_nunique</th>\n",
       "    </tr>\n",
       "  </thead>\n",
       "  <tbody>\n",
       "    <tr>\n",
       "      <th>0</th>\n",
       "      <td>417</td>\n",
       "      <td>182</td>\n",
       "      <td>1698</td>\n",
       "      <td>85029</td>\n",
       "      <td>370</td>\n",
       "    </tr>\n",
       "  </tbody>\n",
       "</table>\n",
       "</div>"
      ],
      "text/plain": [
       "   app_nunique  channel_nunique  device_nunique  ip_nunique  os_nunique\n",
       "0          417              182            1698       85029         370"
      ]
     },
     "execution_count": 79,
     "metadata": {},
     "output_type": "execute_result"
    }
   ],
   "source": [
    "# Number of unique categories in the categorical variables (ip, app, device, os, channel)\n",
    "pd.DataFrame(data={\"ip_nunique\": train.ip.nunique(),\n",
    "              \"app_nunique\": train.app.nunique(),\n",
    "              \"device_nunique\": train.device.nunique(),\n",
    "              \"os_nunique\": train.os.nunique(),\n",
    "              \"channel_nunique\": train.channel.nunique()}, index=[0])"
   ]
  },
  {
   "cell_type": "markdown",
   "metadata": {},
   "source": [
    "#### Conversion rate"
   ]
  },
  {
   "cell_type": "code",
   "execution_count": 138,
   "metadata": {
    "collapsed": true
   },
   "outputs": [],
   "source": [
    "def conversion_rate(df, feat):\n",
    "    counts = df.groupby([feat]).size()\n",
    "    download_counts = df[df[\"is_attributed\"]==1].groupby([feat]).size()\n",
    "    conversion = download_counts / counts\n",
    "    \n",
    "    return conversion"
   ]
  },
  {
   "cell_type": "code",
   "execution_count": 139,
   "metadata": {
    "collapsed": true
   },
   "outputs": [],
   "source": [
    "ip_conversion = conversion_rate(train, \"ip\").fillna(0)"
   ]
  },
  {
   "cell_type": "code",
   "execution_count": 198,
   "metadata": {},
   "outputs": [
    {
     "data": {
      "text/plain": [
       "Text(0.5,1,\"Moving average for the ip's conversion rate\")"
      ]
     },
     "execution_count": 198,
     "metadata": {},
     "output_type": "execute_result"
    },
    {
     "data": {
      "image/png": "[encoded data removed]",
      "text/plain": [
       "<matplotlib.figure.Figure at 0x1daea1390>"
      ]
     },
     "metadata": {},
     "output_type": "display_data"
    }
   ],
   "source": [
    "plt.figure(figsize=(10,3))\n",
    "plt.plot(ip_conversion.rolling(window=300).mean().fillna(0))\n",
    "plt.xlabel(\"ip\")\n",
    "plt.title(\"Moving average for the ip's conversion rate\")"
   ]
  },
  {
   "cell_type": "code",
   "execution_count": 194,
   "metadata": {},
   "outputs": [
    {
     "name": "stdout",
     "output_type": "stream",
     "text": [
      "0\n",
      "126413\n"
     ]
    }
   ],
   "source": [
    "# The range of IPs in the test data\n",
    "print(test.ip.min())\n",
    "print(test.ip.max())"
   ]
  },
  {
   "cell_type": "code",
   "execution_count": 140,
   "metadata": {
    "collapsed": true
   },
   "outputs": [],
   "source": [
    "app_conversion = conversion_rate(train, \"app\").fillna(0)"
   ]
  },
  {
   "cell_type": "code",
   "execution_count": 141,
   "metadata": {
    "collapsed": true
   },
   "outputs": [],
   "source": [
    "device_conversion = conversion_rate(train, \"device\").fillna(0)"
   ]
  },
  {
   "cell_type": "code",
   "execution_count": 142,
   "metadata": {
    "collapsed": true
   },
   "outputs": [],
   "source": [
    "os_conversion = conversion_rate(train, \"os\").fillna(0)"
   ]
  },
  {
   "cell_type": "code",
   "execution_count": 143,
   "metadata": {
    "collapsed": true
   },
   "outputs": [],
   "source": [
    "channel_conversion = conversion_rate(train, \"channel\").fillna(0)"
   ]
  },
  {
   "cell_type": "markdown",
   "metadata": {},
   "source": [
    "#### Time features"
   ]
  },
  {
   "cell_type": "code",
   "execution_count": null,
   "metadata": {
    "collapsed": true
   },
   "outputs": [],
   "source": [
    "# Since the rows in the train_sample.csv were randomly selected from the training,\n",
    "# the train_sample.csv has wider range of time span"
   ]
  },
  {
   "cell_type": "code",
   "execution_count": 245,
   "metadata": {
    "collapsed": true
   },
   "outputs": [],
   "source": [
    "random_train = pd.read_csv(\"data/train_sample.csv\")\n",
    "random_train[\"click_time\"] = pd.to_datetime(random_train[\"click_time\"])\n",
    "random_train[\"attributed_time\"] = pd.to_datetime(random_train[\"attributed_time\"])"
   ]
  },
  {
   "cell_type": "code",
   "execution_count": 252,
   "metadata": {
    "collapsed": true
   },
   "outputs": [],
   "source": [
    "random_train[\"round_to_hour\"] = random_train[\"click_time\"].dt.round(\"H\")"
   ]
  },
  {
   "cell_type": "code",
   "execution_count": 253,
   "metadata": {},
   "outputs": [
    {
     "data": {
      "text/plain": [
       "Text(0.5,1,'Hourly click counts')"
      ]
     },
     "execution_count": 253,
     "metadata": {},
     "output_type": "execute_result"
    },
    {
     "data": {
      "image/png": "[encoded data removed]",
      "text/plain": [
       "<matplotlib.figure.Figure at 0x20a1d85f8>"
      ]
     },
     "metadata": {},
     "output_type": "display_data"
    }
   ],
   "source": [
    "random_train[[\"round_to_hour\", \"is_attributed\"]].groupby([\"round_to_hour\"]).count().plot()\n",
    "plt.title(\"Hourly click counts\")"
   ]
  },
  {
   "cell_type": "code",
   "execution_count": 254,
   "metadata": {},
   "outputs": [
    {
     "data": {
      "text/plain": [
       "Text(0.5,1,'Hourly conversion rate')"
      ]
     },
     "execution_count": 254,
     "metadata": {},
     "output_type": "execute_result"
    },
    {
     "data": {
      "image/png": "[encoded data removed]",
      "text/plain": [
       "<matplotlib.figure.Figure at 0x207b174e0>"
      ]
     },
     "metadata": {},
     "output_type": "display_data"
    }
   ],
   "source": [
    "random_train[[\"round_to_hour\", \"is_attributed\"]].groupby([\"round_to_hour\"]).mean().plot()\n",
    "plt.title(\"Hourly conversion rate\")"
   ]
  },
  {
   "cell_type": "code",
   "execution_count": 256,
   "metadata": {
    "collapsed": true
   },
   "outputs": [],
   "source": [
    "random_train[\"click_hour\"] = random_train[\"click_time\"].dt.hour"
   ]
  },
  {
   "cell_type": "code",
   "execution_count": 260,
   "metadata": {},
   "outputs": [
    {
     "data": {
      "text/plain": [
       "Text(0.5,1,'Hourly click counts grouped by hour')"
      ]
     },
     "execution_count": 260,
     "metadata": {},
     "output_type": "execute_result"
    },
    {
     "data": {
      "image/png": "[encoded data removed]",
      "text/plain": [
       "<matplotlib.figure.Figure at 0x20499a0f0>"
      ]
     },
     "metadata": {},
     "output_type": "display_data"
    }
   ],
   "source": [
    "random_train[[\"click_hour\", \"is_attributed\"]].groupby([\"click_hour\"]).count().plot()\n",
    "plt.title(\"Hourly click counts grouped by hour\")"
   ]
  },
  {
   "cell_type": "code",
   "execution_count": 263,
   "metadata": {},
   "outputs": [
    {
     "data": {
      "text/plain": [
       "Text(0.5,1,'Hourly conversion rate grouped by hour')"
      ]
     },
     "execution_count": 263,
     "metadata": {},
     "output_type": "execute_result"
    },
    {
     "data": {
      "image/png": "[encoded data removed]",
      "text/plain": [
       "<matplotlib.figure.Figure at 0x1dfc88390>"
      ]
     },
     "metadata": {},
     "output_type": "display_data"
    }
   ],
   "source": [
    "random_train[[\"click_hour\", \"is_attributed\"]].groupby([\"click_hour\"]).mean().plot()\n",
    "plt.title(\"Hourly conversion rate grouped by hour\")"
   ]
  },
  {
   "cell_type": "code",
   "execution_count": 266,
   "metadata": {},
   "outputs": [
    {
     "data": {
      "text/plain": [
       "Text(0.5,1,'Hourly conversion rate grouped by hour with error bar')"
      ]
     },
     "execution_count": 266,
     "metadata": {},
     "output_type": "execute_result"
    },
    {
     "data": {
      "image/png": "[encoded data removed]",
      "text/plain": [
       "<matplotlib.figure.Figure at 0x1a083c780>"
      ]
     },
     "metadata": {},
     "output_type": "display_data"
    }
   ],
   "source": [
    "# The variance at hours with fewer data points is large.\n",
    "plt.figure(figsize=(10, 3))\n",
    "sns.barplot('click_hour', 'is_attributed', data=random_train)\n",
    "plt.title(\"Hourly conversion rate grouped by hour with error bar\")"
   ]
  },
  {
   "cell_type": "markdown",
   "metadata": {},
   "source": [
    "##### Check how much time passed from clicking to downloading"
   ]
  },
  {
   "cell_type": "code",
   "execution_count": 268,
   "metadata": {},
   "outputs": [
    {
     "data": {
      "text/plain": [
       "count                       227\n",
       "mean     0 days 01:14:59.572687\n",
       "std      0 days 02:25:05.392661\n",
       "min             0 days 00:00:02\n",
       "25%      0 days 00:00:52.500000\n",
       "50%             0 days 00:03:18\n",
       "75%      0 days 01:21:27.500000\n",
       "max             0 days 12:52:21\n",
       "dtype: object"
      ]
     },
     "execution_count": 268,
     "metadata": {},
     "output_type": "execute_result"
    }
   ],
   "source": [
    "# In train_sample.csv\n",
    "(random_train[\"attributed_time\"] - random_train[\"click_time\"]).describe()"
   ]
  },
  {
   "cell_type": "code",
   "execution_count": 269,
   "metadata": {},
   "outputs": [
    {
     "data": {
      "text/plain": [
       "count                     47179\n",
       "mean     0 days 00:23:35.267237\n",
       "std      0 days 00:49:17.681782\n",
       "min             0 days 00:00:00\n",
       "25%             0 days 00:00:48\n",
       "50%             0 days 00:02:24\n",
       "75%             0 days 00:16:52\n",
       "max             0 days 05:54:05\n",
       "dtype: object"
      ]
     },
     "execution_count": 269,
     "metadata": {},
     "output_type": "execute_result"
    }
   ],
   "source": [
    "# In the training data (the bottonm 20M lines in the train data set)\n",
    "# The minimum time gap, 0s, is very suspicious. It doesn't look like a human behavior. \n",
    "(train[\"attributed_time\"] - train[\"click_time\"]).describe()"
   ]
  },
  {
   "cell_type": "markdown",
   "metadata": {},
   "source": [
    "## Feature Engineering"
   ]
  },
  {
   "cell_type": "code",
   "execution_count": 173,
   "metadata": {
    "collapsed": true
   },
   "outputs": [],
   "source": [
    "def merge_feat(train, test, new_feat, common_feat, col_name):\n",
    "    new_feat = new_feat.to_frame()\n",
    "    new_feat.columns = [col_name]\n",
    "    train = train.merge(new_feat, left_on=common_feat, right_index=True, how=\"left\")\n",
    "    test = test.merge(new_feat, left_on=common_feat, right_index=True, how=\"left\").fillna(new_feat.mean())\n",
    "    return train, test"
   ]
  },
  {
   "cell_type": "code",
   "execution_count": 174,
   "metadata": {
    "collapsed": true
   },
   "outputs": [],
   "source": [
    "train = merge_feat(train, test, ip_conversion, \"ip\", \"ip_conversion\")[0]\n",
    "test = merge_feat(train, test, ip_conversion, \"ip\", \"ip_conversion\")[1]"
   ]
  },
  {
   "cell_type": "code",
   "execution_count": 176,
   "metadata": {
    "collapsed": true
   },
   "outputs": [],
   "source": [
    "train = merge_feat(train, test, app_conversion, \"app\", \"app_conversion\")[0]\n",
    "test = merge_feat(train, test, app_conversion, \"app\", \"app_conversion\")[1]"
   ]
  },
  {
   "cell_type": "code",
   "execution_count": 177,
   "metadata": {
    "collapsed": true
   },
   "outputs": [],
   "source": [
    "train = merge_feat(train, test, device_conversion, \"device\", \"device_conversion\")[0]\n",
    "test = merge_feat(train, test, device_conversion, \"device\", \"device_conversion\")[1]"
   ]
  },
  {
   "cell_type": "code",
   "execution_count": 178,
   "metadata": {
    "collapsed": true
   },
   "outputs": [],
   "source": [
    "train = merge_feat(train, test, os_conversion, \"os\", \"os_conversion\")[0]\n",
    "test = merge_feat(train, test, os_conversion, \"os\", \"os_conversion\")[1]"
   ]
  },
  {
   "cell_type": "code",
   "execution_count": 179,
   "metadata": {
    "collapsed": true
   },
   "outputs": [],
   "source": [
    "train = merge_feat(train, test, channel_conversion, \"channel\", \"channel_conversion\")[0]\n",
    "test = merge_feat(train, test, channel_conversion, \"channel\", \"channel_conversion\")[1]"
   ]
  },
  {
   "cell_type": "code",
   "execution_count": 180,
   "metadata": {
    "collapsed": true
   },
   "outputs": [],
   "source": [
    "train[\"click_hour\"] = train[\"click_time\"].dt.hour\n",
    "test[\"click_hour\"] = test[\"click_time\"].dt.hour"
   ]
  },
  {
   "cell_type": "code",
   "execution_count": 181,
   "metadata": {
    "collapsed": true
   },
   "outputs": [],
   "source": [
    "# count channel grouping by ip and hour \n",
    "group_df = train[[\"ip\", \"click_hour\", \"channel\"]].groupby(by=[\"ip\", \"click_hour\"])[\"channel\"].count().reset_index().rename(index=str, columns={'channel': 'channel_cnt_gp_ip_hour'})"
   ]
  },
  {
   "cell_type": "code",
   "execution_count": 182,
   "metadata": {
    "collapsed": true
   },
   "outputs": [],
   "source": [
    "train = train.merge(group_df, how=\"left\", on=[\"ip\", \"click_hour\"])"
   ]
  },
  {
   "cell_type": "code",
   "execution_count": 183,
   "metadata": {
    "collapsed": true
   },
   "outputs": [],
   "source": [
    "test = test.merge(group_df, how=\"left\", on=[\"ip\", \"click_hour\"]).fillna(group_df.channel_cnt_gp_ip_hour.mean())"
   ]
  },
  {
   "cell_type": "code",
   "execution_count": 184,
   "metadata": {
    "collapsed": true
   },
   "outputs": [],
   "source": [
    "# count channel grouping by ip and app \n",
    "group_df = train[[\"ip\", \"app\", \"channel\"]].groupby(by=[\"ip\", \"app\"])[\"channel\"].count().reset_index().rename(index=str, columns={'channel': 'channel_cnt_gp_ip_app'})"
   ]
  },
  {
   "cell_type": "code",
   "execution_count": 185,
   "metadata": {
    "collapsed": true
   },
   "outputs": [],
   "source": [
    "train = train.merge(group_df, how=\"left\", on=[\"ip\", \"app\"])"
   ]
  },
  {
   "cell_type": "code",
   "execution_count": 186,
   "metadata": {
    "collapsed": true
   },
   "outputs": [],
   "source": [
    "test = test.merge(group_df, how=\"left\", on=[\"ip\", \"app\"]).fillna(group_df.channel_cnt_gp_ip_app.mean())"
   ]
  },
  {
   "cell_type": "code",
   "execution_count": 187,
   "metadata": {
    "collapsed": true
   },
   "outputs": [],
   "source": [
    "# count channel grouping by ip, app, and os\n",
    "group_df = train[[\"ip\", \"app\", \"os\", \"channel\"]].groupby(by=[\"ip\", \"app\", \"os\"])[\"channel\"].count().reset_index().rename(index=str, columns={'channel': 'channel_cnt_gp_ip_app_os'})\n",
    "train = train.merge(group_df, how=\"left\", on=[\"ip\", \"app\", \"os\"])"
   ]
  },
  {
   "cell_type": "code",
   "execution_count": 188,
   "metadata": {
    "collapsed": true
   },
   "outputs": [],
   "source": [
    "test = test.merge(group_df, how=\"left\", on=[\"ip\", \"app\", \"os\"]).fillna(group_df.channel_cnt_gp_ip_app_os.mean())"
   ]
  },
  {
   "cell_type": "code",
   "execution_count": 189,
   "metadata": {
    "collapsed": true
   },
   "outputs": [],
   "source": [
    "train.to_csv(\"data/train_feat_eng.csv\", index=False)\n",
    "test.to_csv(\"data/test_feat_eng.csv\", index=False)"
   ]
  },
  {
   "cell_type": "markdown",
   "metadata": {
    "collapsed": true
   },
   "source": [
    "### Prepare data for modeling"
   ]
  },
  {
   "cell_type": "markdown",
   "metadata": {},
   "source": [
    "Since in the test data set, the maximum ip value is 126413, and also ip values less than around 300000 have very different conversion patterns thant the ip values beyond 300000, the validation data set should be chosen carefully.    \n",
    "Because we want the validation data set to represent the test data set, I randomly selecte 20% of the training data as the validation data set from the rows with ip values less and equal than 126413.    "
   ]
  },
  {
   "cell_type": "code",
   "execution_count": 3,
   "metadata": {
    "collapsed": true
   },
   "outputs": [],
   "source": [
    "num_train = int(train.shape[0] * 0.8)\n",
    "num_val = train.shape[0] - num_train"
   ]
  },
  {
   "cell_type": "code",
   "execution_count": 4,
   "metadata": {
    "collapsed": true
   },
   "outputs": [],
   "source": [
    "val_df = train[train[\"ip\"] <= 126413].sample(num_val)"
   ]
  },
  {
   "cell_type": "code",
   "execution_count": 5,
   "metadata": {
    "collapsed": true
   },
   "outputs": [],
   "source": [
    "train_df = train[~train.index.isin(list(val_df.index))]"
   ]
  },
  {
   "cell_type": "code",
   "execution_count": 66,
   "metadata": {
    "collapsed": true
   },
   "outputs": [],
   "source": [
    "val_df_X = val_df.drop([\"click_time\", \"attributed_time\", \"is_attributed\"], axis=1)\n",
    "train_df_X = train_df.drop([\"click_time\", \"attributed_time\", \"is_attributed\"], axis=1)\n",
    "val_df_y = val_df.is_attributed.values\n",
    "train_df_y = train_df.is_attributed.values"
   ]
  },
  {
   "cell_type": "markdown",
   "metadata": {},
   "source": [
    "### LightGBM modeling"
   ]
  },
  {
   "cell_type": "code",
   "execution_count": 60,
   "metadata": {
    "collapsed": true
   },
   "outputs": [],
   "source": [
    "import lightgbm as lgb"
   ]
  },
  {
   "cell_type": "code",
   "execution_count": 67,
   "metadata": {
    "collapsed": true
   },
   "outputs": [],
   "source": [
    "# predictors = [\"ip\",\"device\", \"app\", \"os\", \"channel\", \"click_hour\",\n",
    "             'channel_cnt_gp_ip_hour', 'channel_cnt_gp_ip_app','channel_cnt_gp_ip_app_os']"
   ]
  },
  {
   "cell_type": "code",
   "execution_count": 73,
   "metadata": {
    "collapsed": true
   },
   "outputs": [],
   "source": [
    "xgtrain = lgb.Dataset(train_df_X.values, label=train_df_y)\n",
    "xgval = lgb.Dataset(val_df_X.values, label=val_df_y)"
   ]
  },
  {
   "cell_type": "markdown",
   "metadata": {},
   "source": [
    "From EDA, we know that the data is super unbalanced, I set the `scale_pos_weight` to 99 to solve the imbalance problem"
   ]
  },
  {
   "cell_type": "code",
   "execution_count": 74,
   "metadata": {
    "collapsed": true
   },
   "outputs": [],
   "source": [
    "params = {\"learning_rate\": 0.1,\"boosting_type\": \"gbdt\", \"metric\": \"auc\", \n",
    "          \"objective\": \"binary\", \"max_depth\": 4, \"subsample\": 0.8, \n",
    "          \"scale_pos_weight\": 99}\n",
    "evals_results={}"
   ]
  },
  {
   "cell_type": "code",
   "execution_count": 76,
   "metadata": {
    "scrolled": false
   },
   "outputs": [
    {
     "name": "stdout",
     "output_type": "stream",
     "text": [
      "[1]\ttrain's auc: 0.980906\tval's auc: 0.945378\n",
      "Training until validation scores don't improve for 20 rounds.\n",
      "[2]\ttrain's auc: 0.981941\tval's auc: 0.947428\n",
      "[3]\ttrain's auc: 0.982358\tval's auc: 0.948172\n",
      "[4]\ttrain's auc: 0.982622\tval's auc: 0.948621\n",
      "[5]\ttrain's auc: 0.983741\tval's auc: 0.951874\n",
      "[6]\ttrain's auc: 0.984456\tval's auc: 0.953564\n",
      "[7]\ttrain's auc: 0.984983\tval's auc: 0.955134\n",
      "[8]\ttrain's auc: 0.985327\tval's auc: 0.955385\n",
      "[9]\ttrain's auc: 0.985423\tval's auc: 0.955494\n",
      "[10]\ttrain's auc: 0.985514\tval's auc: 0.955486\n",
      "[11]\ttrain's auc: 0.985926\tval's auc: 0.9571\n",
      "[12]\ttrain's auc: 0.98619\tval's auc: 0.957777\n",
      "[13]\ttrain's auc: 0.986326\tval's auc: 0.957936\n",
      "[14]\ttrain's auc: 0.986484\tval's auc: 0.958615\n",
      "[15]\ttrain's auc: 0.98657\tval's auc: 0.958819\n",
      "[16]\ttrain's auc: 0.986684\tval's auc: 0.959232\n",
      "[17]\ttrain's auc: 0.986854\tval's auc: 0.959915\n",
      "[18]\ttrain's auc: 0.986925\tval's auc: 0.960322\n",
      "[19]\ttrain's auc: 0.986963\tval's auc: 0.960425\n",
      "[20]\ttrain's auc: 0.987071\tval's auc: 0.960941\n",
      "[21]\ttrain's auc: 0.987131\tval's auc: 0.961191\n",
      "[22]\ttrain's auc: 0.987262\tval's auc: 0.961562\n",
      "[23]\ttrain's auc: 0.987359\tval's auc: 0.961894\n",
      "[24]\ttrain's auc: 0.987414\tval's auc: 0.962118\n",
      "[25]\ttrain's auc: 0.987519\tval's auc: 0.962343\n",
      "[26]\ttrain's auc: 0.987632\tval's auc: 0.962496\n",
      "[27]\ttrain's auc: 0.98767\tval's auc: 0.962587\n",
      "[28]\ttrain's auc: 0.987789\tval's auc: 0.963053\n",
      "[29]\ttrain's auc: 0.987858\tval's auc: 0.963168\n",
      "[30]\ttrain's auc: 0.987975\tval's auc: 0.963502\n",
      "[31]\ttrain's auc: 0.988112\tval's auc: 0.963878\n",
      "[32]\ttrain's auc: 0.988212\tval's auc: 0.964288\n",
      "[33]\ttrain's auc: 0.988267\tval's auc: 0.964418\n",
      "[34]\ttrain's auc: 0.988324\tval's auc: 0.964556\n",
      "[35]\ttrain's auc: 0.988375\tval's auc: 0.964715\n",
      "[36]\ttrain's auc: 0.988492\tval's auc: 0.96515\n",
      "[37]\ttrain's auc: 0.988563\tval's auc: 0.9654\n",
      "[38]\ttrain's auc: 0.988634\tval's auc: 0.965532\n",
      "[39]\ttrain's auc: 0.98874\tval's auc: 0.965839\n",
      "[40]\ttrain's auc: 0.988793\tval's auc: 0.966041\n",
      "[41]\ttrain's auc: 0.988866\tval's auc: 0.966219\n",
      "[42]\ttrain's auc: 0.988918\tval's auc: 0.966332\n",
      "[43]\ttrain's auc: 0.988996\tval's auc: 0.966573\n",
      "[44]\ttrain's auc: 0.98907\tval's auc: 0.966757\n",
      "[45]\ttrain's auc: 0.989096\tval's auc: 0.966848\n",
      "[46]\ttrain's auc: 0.989135\tval's auc: 0.966914\n",
      "[47]\ttrain's auc: 0.989211\tval's auc: 0.96716\n",
      "[48]\ttrain's auc: 0.989255\tval's auc: 0.967276\n",
      "[49]\ttrain's auc: 0.989304\tval's auc: 0.967447\n",
      "[50]\ttrain's auc: 0.989356\tval's auc: 0.967612\n",
      "[51]\ttrain's auc: 0.989388\tval's auc: 0.967663\n",
      "[52]\ttrain's auc: 0.989416\tval's auc: 0.967769\n",
      "[53]\ttrain's auc: 0.98945\tval's auc: 0.967852\n",
      "[54]\ttrain's auc: 0.989491\tval's auc: 0.968006\n",
      "[55]\ttrain's auc: 0.989522\tval's auc: 0.96806\n",
      "[56]\ttrain's auc: 0.989557\tval's auc: 0.968149\n",
      "[57]\ttrain's auc: 0.989588\tval's auc: 0.968171\n",
      "[58]\ttrain's auc: 0.989616\tval's auc: 0.968269\n",
      "[59]\ttrain's auc: 0.989635\tval's auc: 0.968309\n",
      "[60]\ttrain's auc: 0.989664\tval's auc: 0.968365\n",
      "[61]\ttrain's auc: 0.989696\tval's auc: 0.968402\n",
      "[62]\ttrain's auc: 0.989719\tval's auc: 0.968476\n",
      "[63]\ttrain's auc: 0.98974\tval's auc: 0.96852\n",
      "[64]\ttrain's auc: 0.989782\tval's auc: 0.968613\n",
      "[65]\ttrain's auc: 0.989808\tval's auc: 0.968664\n",
      "[66]\ttrain's auc: 0.989835\tval's auc: 0.968729\n",
      "[67]\ttrain's auc: 0.989868\tval's auc: 0.968835\n",
      "[68]\ttrain's auc: 0.989908\tval's auc: 0.968962\n",
      "[69]\ttrain's auc: 0.989929\tval's auc: 0.969041\n",
      "[70]\ttrain's auc: 0.989942\tval's auc: 0.969105\n",
      "[71]\ttrain's auc: 0.989963\tval's auc: 0.969151\n",
      "[72]\ttrain's auc: 0.989993\tval's auc: 0.969208\n",
      "[73]\ttrain's auc: 0.99001\tval's auc: 0.969202\n",
      "[74]\ttrain's auc: 0.990028\tval's auc: 0.969258\n",
      "[75]\ttrain's auc: 0.990055\tval's auc: 0.969323\n",
      "[76]\ttrain's auc: 0.990094\tval's auc: 0.969407\n",
      "[77]\ttrain's auc: 0.990133\tval's auc: 0.969495\n",
      "[78]\ttrain's auc: 0.9902\tval's auc: 0.969679\n",
      "[79]\ttrain's auc: 0.990219\tval's auc: 0.969705\n",
      "[80]\ttrain's auc: 0.990236\tval's auc: 0.969746\n",
      "[81]\ttrain's auc: 0.990265\tval's auc: 0.969786\n",
      "[82]\ttrain's auc: 0.990276\tval's auc: 0.969829\n",
      "[83]\ttrain's auc: 0.990293\tval's auc: 0.969858\n",
      "[84]\ttrain's auc: 0.990299\tval's auc: 0.969869\n",
      "[85]\ttrain's auc: 0.990323\tval's auc: 0.969915\n",
      "[86]\ttrain's auc: 0.990353\tval's auc: 0.970025\n",
      "[87]\ttrain's auc: 0.990393\tval's auc: 0.970119\n",
      "[88]\ttrain's auc: 0.990423\tval's auc: 0.970214\n",
      "[89]\ttrain's auc: 0.990441\tval's auc: 0.970289\n",
      "[90]\ttrain's auc: 0.990459\tval's auc: 0.970348\n",
      "[91]\ttrain's auc: 0.990474\tval's auc: 0.970377\n",
      "[92]\ttrain's auc: 0.990498\tval's auc: 0.970456\n",
      "[93]\ttrain's auc: 0.990511\tval's auc: 0.97048\n",
      "[94]\ttrain's auc: 0.990546\tval's auc: 0.970541\n",
      "[95]\ttrain's auc: 0.990557\tval's auc: 0.97056\n",
      "[96]\ttrain's auc: 0.990591\tval's auc: 0.97064\n",
      "[97]\ttrain's auc: 0.99063\tval's auc: 0.970727\n",
      "[98]\ttrain's auc: 0.99064\tval's auc: 0.970757\n",
      "[99]\ttrain's auc: 0.990644\tval's auc: 0.970766\n",
      "[100]\ttrain's auc: 0.990658\tval's auc: 0.970781\n",
      "[101]\ttrain's auc: 0.990701\tval's auc: 0.970893\n",
      "[102]\ttrain's auc: 0.990739\tval's auc: 0.971018\n",
      "[103]\ttrain's auc: 0.990772\tval's auc: 0.971087\n",
      "[104]\ttrain's auc: 0.990787\tval's auc: 0.971134\n",
      "[105]\ttrain's auc: 0.990796\tval's auc: 0.971145\n",
      "[106]\ttrain's auc: 0.990811\tval's auc: 0.971198\n",
      "[107]\ttrain's auc: 0.99084\tval's auc: 0.971282\n",
      "[108]\ttrain's auc: 0.990847\tval's auc: 0.971298\n",
      "[109]\ttrain's auc: 0.990862\tval's auc: 0.97132\n",
      "[110]\ttrain's auc: 0.990867\tval's auc: 0.971331\n",
      "[111]\ttrain's auc: 0.990884\tval's auc: 0.971379\n",
      "[112]\ttrain's auc: 0.990895\tval's auc: 0.97142\n",
      "[113]\ttrain's auc: 0.99091\tval's auc: 0.971468\n",
      "[114]\ttrain's auc: 0.990933\tval's auc: 0.971509\n",
      "[115]\ttrain's auc: 0.990947\tval's auc: 0.971534\n",
      "[116]\ttrain's auc: 0.990956\tval's auc: 0.971547\n",
      "[117]\ttrain's auc: 0.990979\tval's auc: 0.971605\n",
      "[118]\ttrain's auc: 0.991005\tval's auc: 0.97162\n",
      "[119]\ttrain's auc: 0.991012\tval's auc: 0.971634\n",
      "[120]\ttrain's auc: 0.991029\tval's auc: 0.971664\n",
      "[121]\ttrain's auc: 0.99104\tval's auc: 0.971696\n",
      "[122]\ttrain's auc: 0.991058\tval's auc: 0.971705\n",
      "[123]\ttrain's auc: 0.991072\tval's auc: 0.971727\n",
      "[124]\ttrain's auc: 0.991082\tval's auc: 0.971737\n",
      "[125]\ttrain's auc: 0.991085\tval's auc: 0.971738\n",
      "[126]\ttrain's auc: 0.991097\tval's auc: 0.971757\n",
      "[127]\ttrain's auc: 0.991102\tval's auc: 0.971767\n",
      "[128]\ttrain's auc: 0.991129\tval's auc: 0.971839\n",
      "[129]\ttrain's auc: 0.991141\tval's auc: 0.971869\n",
      "[130]\ttrain's auc: 0.99115\tval's auc: 0.971895\n",
      "[131]\ttrain's auc: 0.991154\tval's auc: 0.971908\n",
      "[132]\ttrain's auc: 0.991168\tval's auc: 0.971948\n",
      "[133]\ttrain's auc: 0.991175\tval's auc: 0.971961\n",
      "[134]\ttrain's auc: 0.991185\tval's auc: 0.971986\n",
      "[135]\ttrain's auc: 0.991207\tval's auc: 0.972028\n",
      "[136]\ttrain's auc: 0.991222\tval's auc: 0.972065\n",
      "[137]\ttrain's auc: 0.991241\tval's auc: 0.972075\n",
      "[138]\ttrain's auc: 0.991247\tval's auc: 0.972097\n",
      "[139]\ttrain's auc: 0.991257\tval's auc: 0.972102\n",
      "[140]\ttrain's auc: 0.99126\tval's auc: 0.972107\n",
      "[141]\ttrain's auc: 0.991279\tval's auc: 0.972138\n",
      "[142]\ttrain's auc: 0.991297\tval's auc: 0.972154\n",
      "[143]\ttrain's auc: 0.991309\tval's auc: 0.972183\n",
      "[144]\ttrain's auc: 0.991324\tval's auc: 0.972235\n",
      "[145]\ttrain's auc: 0.991338\tval's auc: 0.972267\n",
      "[146]\ttrain's auc: 0.991361\tval's auc: 0.972258\n",
      "[147]\ttrain's auc: 0.991374\tval's auc: 0.972277\n",
      "[148]\ttrain's auc: 0.99139\tval's auc: 0.972291\n",
      "[149]\ttrain's auc: 0.991405\tval's auc: 0.972296\n",
      "[150]\ttrain's auc: 0.991414\tval's auc: 0.972299\n",
      "[151]\ttrain's auc: 0.991419\tval's auc: 0.972301\n",
      "[152]\ttrain's auc: 0.991432\tval's auc: 0.972321\n",
      "[153]\ttrain's auc: 0.991445\tval's auc: 0.972347\n",
      "[154]\ttrain's auc: 0.991461\tval's auc: 0.972362\n",
      "[155]\ttrain's auc: 0.991472\tval's auc: 0.972371\n",
      "[156]\ttrain's auc: 0.991485\tval's auc: 0.972384\n",
      "[157]\ttrain's auc: 0.991498\tval's auc: 0.972401\n",
      "[158]\ttrain's auc: 0.9915\tval's auc: 0.972401\n",
      "[159]\ttrain's auc: 0.991516\tval's auc: 0.97241\n",
      "[160]\ttrain's auc: 0.991524\tval's auc: 0.972409\n",
      "[161]\ttrain's auc: 0.991529\tval's auc: 0.972418\n",
      "[162]\ttrain's auc: 0.991532\tval's auc: 0.972438\n",
      "[163]\ttrain's auc: 0.991535\tval's auc: 0.972443\n",
      "[164]\ttrain's auc: 0.991537\tval's auc: 0.972442\n",
      "[165]\ttrain's auc: 0.991543\tval's auc: 0.972455\n",
      "[166]\ttrain's auc: 0.991546\tval's auc: 0.972466\n",
      "[167]\ttrain's auc: 0.991555\tval's auc: 0.972472\n",
      "[168]\ttrain's auc: 0.991569\tval's auc: 0.972455\n",
      "[169]\ttrain's auc: 0.991579\tval's auc: 0.972458\n",
      "[170]\ttrain's auc: 0.991586\tval's auc: 0.972466\n",
      "[171]\ttrain's auc: 0.991592\tval's auc: 0.972457\n",
      "[172]\ttrain's auc: 0.991594\tval's auc: 0.972457\n",
      "[173]\ttrain's auc: 0.991598\tval's auc: 0.972469\n"
     ]
    },
    {
     "name": "stdout",
     "output_type": "stream",
     "text": [
      "[174]\ttrain's auc: 0.991602\tval's auc: 0.972485\n",
      "[175]\ttrain's auc: 0.991608\tval's auc: 0.972498\n",
      "[176]\ttrain's auc: 0.991608\tval's auc: 0.972498\n",
      "[177]\ttrain's auc: 0.991612\tval's auc: 0.972497\n",
      "[178]\ttrain's auc: 0.991622\tval's auc: 0.972516\n",
      "[179]\ttrain's auc: 0.99163\tval's auc: 0.972544\n",
      "[180]\ttrain's auc: 0.991652\tval's auc: 0.972541\n",
      "[181]\ttrain's auc: 0.991664\tval's auc: 0.972552\n",
      "[182]\ttrain's auc: 0.991675\tval's auc: 0.972537\n",
      "[183]\ttrain's auc: 0.991682\tval's auc: 0.972563\n",
      "[184]\ttrain's auc: 0.99169\tval's auc: 0.97259\n",
      "[185]\ttrain's auc: 0.991704\tval's auc: 0.972614\n",
      "[186]\ttrain's auc: 0.991707\tval's auc: 0.97262\n",
      "[187]\ttrain's auc: 0.991722\tval's auc: 0.972631\n",
      "[188]\ttrain's auc: 0.991723\tval's auc: 0.972635\n",
      "[189]\ttrain's auc: 0.99174\tval's auc: 0.972645\n",
      "[190]\ttrain's auc: 0.991747\tval's auc: 0.972648\n",
      "[191]\ttrain's auc: 0.991758\tval's auc: 0.972667\n",
      "[192]\ttrain's auc: 0.991776\tval's auc: 0.972683\n",
      "[193]\ttrain's auc: 0.991792\tval's auc: 0.972704\n",
      "[194]\ttrain's auc: 0.991798\tval's auc: 0.972711\n",
      "[195]\ttrain's auc: 0.991809\tval's auc: 0.972735\n",
      "[196]\ttrain's auc: 0.99181\tval's auc: 0.972738\n",
      "[197]\ttrain's auc: 0.991812\tval's auc: 0.972742\n",
      "[198]\ttrain's auc: 0.991814\tval's auc: 0.972747\n",
      "[199]\ttrain's auc: 0.991826\tval's auc: 0.972752\n",
      "[200]\ttrain's auc: 0.991832\tval's auc: 0.972761\n",
      "[201]\ttrain's auc: 0.991836\tval's auc: 0.972766\n",
      "[202]\ttrain's auc: 0.991847\tval's auc: 0.972772\n",
      "[203]\ttrain's auc: 0.99185\tval's auc: 0.972774\n",
      "[204]\ttrain's auc: 0.991855\tval's auc: 0.972784\n",
      "[205]\ttrain's auc: 0.991856\tval's auc: 0.972786\n",
      "[206]\ttrain's auc: 0.991865\tval's auc: 0.972801\n",
      "[207]\ttrain's auc: 0.991877\tval's auc: 0.972819\n",
      "[208]\ttrain's auc: 0.991886\tval's auc: 0.972821\n",
      "[209]\ttrain's auc: 0.991895\tval's auc: 0.972847\n",
      "[210]\ttrain's auc: 0.991899\tval's auc: 0.972846\n",
      "[211]\ttrain's auc: 0.991907\tval's auc: 0.972863\n",
      "[212]\ttrain's auc: 0.991907\tval's auc: 0.972863\n",
      "[213]\ttrain's auc: 0.991916\tval's auc: 0.972859\n",
      "[214]\ttrain's auc: 0.991918\tval's auc: 0.972855\n",
      "[215]\ttrain's auc: 0.991931\tval's auc: 0.972848\n",
      "[216]\ttrain's auc: 0.991939\tval's auc: 0.972848\n",
      "[217]\ttrain's auc: 0.991944\tval's auc: 0.972867\n",
      "[218]\ttrain's auc: 0.991945\tval's auc: 0.972868\n",
      "[219]\ttrain's auc: 0.991952\tval's auc: 0.97286\n",
      "[220]\ttrain's auc: 0.991961\tval's auc: 0.972875\n",
      "[221]\ttrain's auc: 0.991967\tval's auc: 0.972881\n",
      "[222]\ttrain's auc: 0.991977\tval's auc: 0.972894\n",
      "[223]\ttrain's auc: 0.991983\tval's auc: 0.972887\n",
      "[224]\ttrain's auc: 0.991988\tval's auc: 0.972887\n",
      "[225]\ttrain's auc: 0.991994\tval's auc: 0.972897\n",
      "[226]\ttrain's auc: 0.99201\tval's auc: 0.9729\n",
      "[227]\ttrain's auc: 0.992023\tval's auc: 0.97289\n",
      "[228]\ttrain's auc: 0.992031\tval's auc: 0.972901\n",
      "[229]\ttrain's auc: 0.992032\tval's auc: 0.972912\n",
      "[230]\ttrain's auc: 0.992033\tval's auc: 0.972916\n",
      "[231]\ttrain's auc: 0.992036\tval's auc: 0.972919\n",
      "[232]\ttrain's auc: 0.992043\tval's auc: 0.97293\n",
      "[233]\ttrain's auc: 0.992047\tval's auc: 0.972938\n",
      "[234]\ttrain's auc: 0.992056\tval's auc: 0.972933\n",
      "[235]\ttrain's auc: 0.992068\tval's auc: 0.972932\n",
      "[236]\ttrain's auc: 0.99208\tval's auc: 0.972919\n",
      "[237]\ttrain's auc: 0.992088\tval's auc: 0.972923\n",
      "[238]\ttrain's auc: 0.992101\tval's auc: 0.972941\n",
      "[239]\ttrain's auc: 0.992117\tval's auc: 0.97296\n",
      "[240]\ttrain's auc: 0.992124\tval's auc: 0.972961\n",
      "[241]\ttrain's auc: 0.99213\tval's auc: 0.972974\n",
      "[242]\ttrain's auc: 0.992134\tval's auc: 0.972978\n",
      "[243]\ttrain's auc: 0.992135\tval's auc: 0.972978\n",
      "[244]\ttrain's auc: 0.992138\tval's auc: 0.972988\n",
      "[245]\ttrain's auc: 0.992142\tval's auc: 0.972991\n",
      "[246]\ttrain's auc: 0.992154\tval's auc: 0.972991\n",
      "[247]\ttrain's auc: 0.992163\tval's auc: 0.973012\n",
      "[248]\ttrain's auc: 0.992167\tval's auc: 0.973011\n",
      "[249]\ttrain's auc: 0.992177\tval's auc: 0.973019\n",
      "[250]\ttrain's auc: 0.992186\tval's auc: 0.973017\n",
      "[251]\ttrain's auc: 0.992187\tval's auc: 0.973013\n",
      "[252]\ttrain's auc: 0.992191\tval's auc: 0.973025\n",
      "[253]\ttrain's auc: 0.992195\tval's auc: 0.973024\n",
      "[254]\ttrain's auc: 0.992203\tval's auc: 0.973029\n",
      "[255]\ttrain's auc: 0.992212\tval's auc: 0.973046\n",
      "[256]\ttrain's auc: 0.99222\tval's auc: 0.973059\n",
      "[257]\ttrain's auc: 0.992227\tval's auc: 0.973068\n",
      "[258]\ttrain's auc: 0.992234\tval's auc: 0.973055\n",
      "[259]\ttrain's auc: 0.992245\tval's auc: 0.973061\n",
      "[260]\ttrain's auc: 0.992252\tval's auc: 0.973072\n",
      "[261]\ttrain's auc: 0.992257\tval's auc: 0.973067\n",
      "[262]\ttrain's auc: 0.992269\tval's auc: 0.973065\n",
      "[263]\ttrain's auc: 0.992274\tval's auc: 0.973074\n",
      "[264]\ttrain's auc: 0.992275\tval's auc: 0.973076\n",
      "[265]\ttrain's auc: 0.992284\tval's auc: 0.973084\n",
      "[266]\ttrain's auc: 0.992286\tval's auc: 0.973083\n",
      "[267]\ttrain's auc: 0.992287\tval's auc: 0.973086\n",
      "[268]\ttrain's auc: 0.99229\tval's auc: 0.973087\n",
      "[269]\ttrain's auc: 0.992291\tval's auc: 0.973092\n",
      "[270]\ttrain's auc: 0.992294\tval's auc: 0.973098\n",
      "[271]\ttrain's auc: 0.992295\tval's auc: 0.973102\n",
      "[272]\ttrain's auc: 0.992298\tval's auc: 0.973112\n",
      "[273]\ttrain's auc: 0.992304\tval's auc: 0.973121\n",
      "[274]\ttrain's auc: 0.99231\tval's auc: 0.973127\n",
      "[275]\ttrain's auc: 0.992318\tval's auc: 0.973131\n",
      "[276]\ttrain's auc: 0.992331\tval's auc: 0.973148\n",
      "[277]\ttrain's auc: 0.992338\tval's auc: 0.973158\n",
      "[278]\ttrain's auc: 0.992347\tval's auc: 0.973158\n",
      "[279]\ttrain's auc: 0.992358\tval's auc: 0.973148\n",
      "[280]\ttrain's auc: 0.992363\tval's auc: 0.973156\n",
      "[281]\ttrain's auc: 0.99237\tval's auc: 0.97315\n",
      "[282]\ttrain's auc: 0.99238\tval's auc: 0.973148\n",
      "[283]\ttrain's auc: 0.992384\tval's auc: 0.973147\n",
      "[284]\ttrain's auc: 0.992391\tval's auc: 0.973142\n",
      "[285]\ttrain's auc: 0.992398\tval's auc: 0.973149\n",
      "[286]\ttrain's auc: 0.992404\tval's auc: 0.973163\n",
      "[287]\ttrain's auc: 0.992411\tval's auc: 0.973175\n",
      "[288]\ttrain's auc: 0.992419\tval's auc: 0.973177\n",
      "[289]\ttrain's auc: 0.992425\tval's auc: 0.973171\n",
      "[290]\ttrain's auc: 0.992431\tval's auc: 0.973172\n",
      "[291]\ttrain's auc: 0.992438\tval's auc: 0.97317\n",
      "[292]\ttrain's auc: 0.992439\tval's auc: 0.973171\n",
      "[293]\ttrain's auc: 0.992446\tval's auc: 0.973158\n",
      "[294]\ttrain's auc: 0.992451\tval's auc: 0.973169\n",
      "[295]\ttrain's auc: 0.992459\tval's auc: 0.973187\n",
      "[296]\ttrain's auc: 0.992467\tval's auc: 0.97319\n",
      "[297]\ttrain's auc: 0.992468\tval's auc: 0.97319\n",
      "[298]\ttrain's auc: 0.992475\tval's auc: 0.973186\n",
      "[299]\ttrain's auc: 0.992481\tval's auc: 0.973177\n",
      "[300]\ttrain's auc: 0.992488\tval's auc: 0.973175\n",
      "[301]\ttrain's auc: 0.992488\tval's auc: 0.973176\n",
      "[302]\ttrain's auc: 0.992491\tval's auc: 0.973178\n",
      "[303]\ttrain's auc: 0.992498\tval's auc: 0.97317\n",
      "[304]\ttrain's auc: 0.992498\tval's auc: 0.97317\n",
      "[305]\ttrain's auc: 0.992508\tval's auc: 0.973174\n",
      "[306]\ttrain's auc: 0.992515\tval's auc: 0.973173\n",
      "[307]\ttrain's auc: 0.992524\tval's auc: 0.973185\n",
      "[308]\ttrain's auc: 0.992529\tval's auc: 0.973183\n",
      "[309]\ttrain's auc: 0.992536\tval's auc: 0.973178\n",
      "[310]\ttrain's auc: 0.992541\tval's auc: 0.973187\n",
      "[311]\ttrain's auc: 0.992551\tval's auc: 0.973188\n",
      "[312]\ttrain's auc: 0.992556\tval's auc: 0.973189\n",
      "[313]\ttrain's auc: 0.99256\tval's auc: 0.973183\n",
      "[314]\ttrain's auc: 0.992571\tval's auc: 0.973185\n",
      "[315]\ttrain's auc: 0.992582\tval's auc: 0.97319\n",
      "[316]\ttrain's auc: 0.992585\tval's auc: 0.973195\n",
      "[317]\ttrain's auc: 0.992587\tval's auc: 0.973198\n",
      "[318]\ttrain's auc: 0.992592\tval's auc: 0.973206\n",
      "[319]\ttrain's auc: 0.992595\tval's auc: 0.973209\n",
      "[320]\ttrain's auc: 0.992595\tval's auc: 0.973211\n",
      "[321]\ttrain's auc: 0.992598\tval's auc: 0.973219\n",
      "[322]\ttrain's auc: 0.992614\tval's auc: 0.973229\n",
      "[323]\ttrain's auc: 0.992614\tval's auc: 0.973231\n",
      "[324]\ttrain's auc: 0.992616\tval's auc: 0.973232\n",
      "[325]\ttrain's auc: 0.992622\tval's auc: 0.973245\n",
      "[326]\ttrain's auc: 0.992629\tval's auc: 0.973256\n",
      "[327]\ttrain's auc: 0.992637\tval's auc: 0.973268\n",
      "[328]\ttrain's auc: 0.992653\tval's auc: 0.973273\n",
      "[329]\ttrain's auc: 0.992657\tval's auc: 0.973271\n",
      "[330]\ttrain's auc: 0.992658\tval's auc: 0.973272\n",
      "[331]\ttrain's auc: 0.99266\tval's auc: 0.973279\n",
      "[332]\ttrain's auc: 0.992661\tval's auc: 0.973281\n",
      "[333]\ttrain's auc: 0.992663\tval's auc: 0.973283\n",
      "[334]\ttrain's auc: 0.992672\tval's auc: 0.973297\n",
      "[335]\ttrain's auc: 0.992673\tval's auc: 0.9733\n",
      "[336]\ttrain's auc: 0.992681\tval's auc: 0.973302\n",
      "[337]\ttrain's auc: 0.99269\tval's auc: 0.973309\n",
      "[338]\ttrain's auc: 0.992698\tval's auc: 0.973326\n",
      "[339]\ttrain's auc: 0.992701\tval's auc: 0.973325\n",
      "[340]\ttrain's auc: 0.99271\tval's auc: 0.973329\n",
      "[341]\ttrain's auc: 0.992719\tval's auc: 0.973322\n",
      "[342]\ttrain's auc: 0.992726\tval's auc: 0.973332\n",
      "[343]\ttrain's auc: 0.992736\tval's auc: 0.973319\n",
      "[344]\ttrain's auc: 0.992743\tval's auc: 0.973314\n",
      "[345]\ttrain's auc: 0.992743\tval's auc: 0.973314\n"
     ]
    },
    {
     "name": "stdout",
     "output_type": "stream",
     "text": [
      "[346]\ttrain's auc: 0.992751\tval's auc: 0.973327\n",
      "[347]\ttrain's auc: 0.992751\tval's auc: 0.973326\n",
      "[348]\ttrain's auc: 0.992752\tval's auc: 0.973328\n",
      "[349]\ttrain's auc: 0.992754\tval's auc: 0.973325\n",
      "[350]\ttrain's auc: 0.992754\tval's auc: 0.973331\n",
      "[351]\ttrain's auc: 0.992759\tval's auc: 0.97332\n",
      "[352]\ttrain's auc: 0.992769\tval's auc: 0.973321\n",
      "[353]\ttrain's auc: 0.992773\tval's auc: 0.973323\n",
      "[354]\ttrain's auc: 0.992774\tval's auc: 0.973326\n",
      "[355]\ttrain's auc: 0.992776\tval's auc: 0.973327\n",
      "[356]\ttrain's auc: 0.992777\tval's auc: 0.973328\n",
      "[357]\ttrain's auc: 0.992784\tval's auc: 0.973321\n",
      "[358]\ttrain's auc: 0.992788\tval's auc: 0.973322\n",
      "[359]\ttrain's auc: 0.992793\tval's auc: 0.973308\n",
      "[360]\ttrain's auc: 0.992803\tval's auc: 0.973305\n",
      "[361]\ttrain's auc: 0.99281\tval's auc: 0.973302\n",
      "[362]\ttrain's auc: 0.992812\tval's auc: 0.973304\n",
      "Early stopping, best iteration is:\n",
      "[342]\ttrain's auc: 0.992726\tval's auc: 0.973332\n"
     ]
    }
   ],
   "source": [
    "model = lgb.train(params, xgtrain, valid_sets=[xgtrain, xgval], valid_names=[\"train\", \"val\"],\n",
    "                  evals_result=evals_results, num_boost_round=500, early_stopping_rounds=20)"
   ]
  },
  {
   "cell_type": "code",
   "execution_count": 92,
   "metadata": {
    "collapsed": true
   },
   "outputs": [],
   "source": [
    "n_iterations = model.best_iteration\n",
    "best_train_auc = model.best_score[\"train\"][\"auc\"]\n",
    "best_val_auc = model.best_score[\"val\"][\"auc\"]"
   ]
  },
  {
   "cell_type": "code",
   "execution_count": 96,
   "metadata": {},
   "outputs": [
    {
     "name": "stdout",
     "output_type": "stream",
     "text": [
      "The optimal number of iterations is 342  with train auc 0.9927  and val auc 0.9733\n"
     ]
    }
   ],
   "source": [
    "print(\"The optimal number of iterations is\", n_iterations, \" with train auc %.4f\" %best_train_auc,\n",
    "     \" and val auc %.4f\" %best_val_auc)"
   ]
  },
  {
   "cell_type": "code",
   "execution_count": 190,
   "metadata": {
    "collapsed": true
   },
   "outputs": [],
   "source": [
    "pred_test = model.predict(test.drop([\"click_id\",\"click_time\"], axis=1), num_iteration=n_iterations)"
   ]
  },
  {
   "cell_type": "code",
   "execution_count": 198,
   "metadata": {
    "collapsed": true
   },
   "outputs": [],
   "source": [
    "test[\"is_attributed\"] = pred_test\n",
    "test[[\"click_id\", \"is_attributed\"]].to_csv(\"submission.csv\", index=False)"
   ]
  },
  {
   "cell_type": "code",
   "execution_count": null,
   "metadata": {
    "collapsed": true
   },
   "outputs": [],
   "source": [
    "a.to_csv(\"submission.csv\", index=True)"
   ]
  },
  {
   "cell_type": "code",
   "execution_count": 203,
   "metadata": {},
   "outputs": [
    {
     "data": {
      "text/html": [
       "<div>\n",
       "<style>\n",
       "    .dataframe thead tr:only-child th {\n",
       "        text-align: right;\n",
       "    }\n",
       "\n",
       "    .dataframe thead th {\n",
       "        text-align: left;\n",
       "    }\n",
       "\n",
       "    .dataframe tbody tr th {\n",
       "        vertical-align: top;\n",
       "    }\n",
       "</style>\n",
       "<table border=\"1\" class=\"dataframe\">\n",
       "  <thead>\n",
       "    <tr style=\"text-align: right;\">\n",
       "      <th></th>\n",
       "      <th>is_attributed</th>\n",
       "    </tr>\n",
       "  </thead>\n",
       "  <tbody>\n",
       "    <tr>\n",
       "      <th>0</th>\n",
       "      <td>0.000021</td>\n",
       "    </tr>\n",
       "    <tr>\n",
       "      <th>1</th>\n",
       "      <td>0.116874</td>\n",
       "    </tr>\n",
       "    <tr>\n",
       "      <th>2</th>\n",
       "      <td>0.000008</td>\n",
       "    </tr>\n",
       "    <tr>\n",
       "      <th>3</th>\n",
       "      <td>0.014103</td>\n",
       "    </tr>\n",
       "    <tr>\n",
       "      <th>4</th>\n",
       "      <td>0.029944</td>\n",
       "    </tr>\n",
       "  </tbody>\n",
       "</table>\n",
       "</div>"
      ],
      "text/plain": [
       "   is_attributed\n",
       "0       0.000021\n",
       "1       0.116874\n",
       "2       0.000008\n",
       "3       0.014103\n",
       "4       0.029944"
      ]
     },
     "execution_count": 203,
     "metadata": {},
     "output_type": "execute_result"
    }
   ],
   "source": [
    "pd.read_csv(\"submission.csv\").head()"
   ]
  },
  {
   "cell_type": "markdown",
   "metadata": {},
   "source": [
    "### Feature importance"
   ]
  },
  {
   "cell_type": "code",
   "execution_count": 112,
   "metadata": {
    "collapsed": true
   },
   "outputs": [],
   "source": [
    "cols = train_df_X.columns.values"
   ]
  },
  {
   "cell_type": "code",
   "execution_count": 115,
   "metadata": {},
   "outputs": [
    {
     "data": {
      "text/plain": [
       "<matplotlib.axes._subplots.AxesSubplot at 0x11db617b8>"
      ]
     },
     "execution_count": 115,
     "metadata": {},
     "output_type": "execute_result"
    },
    {
     "data": {
      "image/png": "[encoded data removed]",
      "text/plain": [
       "<matplotlib.figure.Figure at 0x11dab88d0>"
      ]
     },
     "metadata": {},
     "output_type": "display_data"
    }
   ],
   "source": [
    "lgb.plot_importance(model)"
   ]
  },
  {
   "cell_type": "code",
   "execution_count": 120,
   "metadata": {
    "collapsed": true
   },
   "outputs": [],
   "source": [
    "feat_imp = pd.DataFrame()\n",
    "feat_imp[\"features\"] = [cols[5], cols[6], cols[9], cols[11], cols[13], cols[12],\n",
    "           cols[8], cols[1], cols[0], cols[4], cols[3], cols[10], cols[7], cols[2]]\n",
    "feat_imp[\"importance\"] = sorted(model.feature_importance(), reverse=True)"
   ]
  },
  {
   "cell_type": "markdown",
   "metadata": {},
   "source": [
    "From the table shown below, we can see that the top five important features are `ip_conversion`, `app_conversion`, `channel_conversion`, `channel_cnt_gp_ip_hour` (the channel counts after grouping by `ip` and `click_hour`), `channel_cnt_gp_ip_app` (the channel counts after grouping by `ip` and `app`).       \n",
    "Overall, from the table, we can say that except for the conversion rates, `channel` also brings important insights. "
   ]
  },
  {
   "cell_type": "code",
   "execution_count": 121,
   "metadata": {},
   "outputs": [
    {
     "data": {
      "text/html": [
       "<div>\n",
       "<style>\n",
       "    .dataframe thead tr:only-child th {\n",
       "        text-align: right;\n",
       "    }\n",
       "\n",
       "    .dataframe thead th {\n",
       "        text-align: left;\n",
       "    }\n",
       "\n",
       "    .dataframe tbody tr th {\n",
       "        vertical-align: top;\n",
       "    }\n",
       "</style>\n",
       "<table border=\"1\" class=\"dataframe\">\n",
       "  <thead>\n",
       "    <tr style=\"text-align: right;\">\n",
       "      <th></th>\n",
       "      <th>features</th>\n",
       "      <th>importance</th>\n",
       "    </tr>\n",
       "  </thead>\n",
       "  <tbody>\n",
       "    <tr>\n",
       "      <th>0</th>\n",
       "      <td>ip_conversion</td>\n",
       "      <td>675</td>\n",
       "    </tr>\n",
       "    <tr>\n",
       "      <th>1</th>\n",
       "      <td>app_conversion</td>\n",
       "      <td>649</td>\n",
       "    </tr>\n",
       "    <tr>\n",
       "      <th>2</th>\n",
       "      <td>channel_conversion</td>\n",
       "      <td>552</td>\n",
       "    </tr>\n",
       "    <tr>\n",
       "      <th>3</th>\n",
       "      <td>channel_cnt_gp_ip_hour</td>\n",
       "      <td>508</td>\n",
       "    </tr>\n",
       "    <tr>\n",
       "      <th>4</th>\n",
       "      <td>channel_cnt_gp_ip_app_os</td>\n",
       "      <td>455</td>\n",
       "    </tr>\n",
       "    <tr>\n",
       "      <th>5</th>\n",
       "      <td>channel_cnt_gp_ip_app</td>\n",
       "      <td>439</td>\n",
       "    </tr>\n",
       "    <tr>\n",
       "      <th>6</th>\n",
       "      <td>os_conversion</td>\n",
       "      <td>391</td>\n",
       "    </tr>\n",
       "    <tr>\n",
       "      <th>7</th>\n",
       "      <td>app</td>\n",
       "      <td>287</td>\n",
       "    </tr>\n",
       "    <tr>\n",
       "      <th>8</th>\n",
       "      <td>ip</td>\n",
       "      <td>255</td>\n",
       "    </tr>\n",
       "    <tr>\n",
       "      <th>9</th>\n",
       "      <td>channel</td>\n",
       "      <td>253</td>\n",
       "    </tr>\n",
       "    <tr>\n",
       "      <th>10</th>\n",
       "      <td>os</td>\n",
       "      <td>239</td>\n",
       "    </tr>\n",
       "    <tr>\n",
       "      <th>11</th>\n",
       "      <td>click_hour</td>\n",
       "      <td>209</td>\n",
       "    </tr>\n",
       "    <tr>\n",
       "      <th>12</th>\n",
       "      <td>device_conversion</td>\n",
       "      <td>106</td>\n",
       "    </tr>\n",
       "    <tr>\n",
       "      <th>13</th>\n",
       "      <td>device</td>\n",
       "      <td>59</td>\n",
       "    </tr>\n",
       "  </tbody>\n",
       "</table>\n",
       "</div>"
      ],
      "text/plain": [
       "                    features  importance\n",
       "0              ip_conversion         675\n",
       "1             app_conversion         649\n",
       "2         channel_conversion         552\n",
       "3     channel_cnt_gp_ip_hour         508\n",
       "4   channel_cnt_gp_ip_app_os         455\n",
       "5      channel_cnt_gp_ip_app         439\n",
       "6              os_conversion         391\n",
       "7                        app         287\n",
       "8                         ip         255\n",
       "9                    channel         253\n",
       "10                        os         239\n",
       "11                click_hour         209\n",
       "12         device_conversion         106\n",
       "13                    device          59"
      ]
     },
     "execution_count": 121,
     "metadata": {},
     "output_type": "execute_result"
    }
   ],
   "source": [
    "feat_imp"
   ]
  },
  {
   "cell_type": "code",
   "execution_count": null,
   "metadata": {
    "collapsed": true
   },
   "outputs": [],
   "source": []
  }
 ],
 "metadata": {
  "kernelspec": {
   "display_name": "Python 3",
   "language": "python",
   "name": "python3"
  },
  "language_info": {
   "codemirror_mode": {
    "name": "ipython",
    "version": 3
   },
   "file_extension": ".py",
   "mimetype": "text/x-python",
   "name": "python",
   "nbconvert_exporter": "python",
   "pygments_lexer": "ipython3",
   "version": "3.6.1"
  }
 },
 "nbformat": 4,
 "nbformat_minor": 2
}
